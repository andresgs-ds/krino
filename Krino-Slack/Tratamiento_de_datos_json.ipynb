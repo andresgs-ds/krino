{
 "cells": [
  {
   "cell_type": "code",
   "execution_count": 89,
   "metadata": {},
   "outputs": [],
   "source": [
    "import numpy as np\n",
    "import json\n",
    "import os\n",
    "import pandas as pd"
   ]
  },
  {
   "cell_type": "code",
   "execution_count": 90,
   "metadata": {},
   "outputs": [],
   "source": [
    "#Toma los archivos .json del directorio y los une a una base de datos usando pandas\n",
    "\n",
    "data_list = []\n",
    "base_dir = 'tech---ops/'\n",
    "\n",
    "for file in os.listdir(base_dir):\n",
    "    if 'json' in file:\n",
    "        json_path = os.path.join(base_dir, file)\n",
    "        json_data = pd.read_json(json_path, dtype=False)\n",
    "        data_list.append(json_data)\n",
    "\n",
    "df = pd.concat(data_list)\n"
   ]
  },
  {
   "cell_type": "code",
   "execution_count": 109,
   "metadata": {},
   "outputs": [
    {
     "data": {
      "text/html": [
       "<div>\n",
       "<style scoped>\n",
       "    .dataframe tbody tr th:only-of-type {\n",
       "        vertical-align: middle;\n",
       "    }\n",
       "\n",
       "    .dataframe tbody tr th {\n",
       "        vertical-align: top;\n",
       "    }\n",
       "\n",
       "    .dataframe thead th {\n",
       "        text-align: right;\n",
       "    }\n",
       "</style>\n",
       "<table border=\"1\" class=\"dataframe\">\n",
       "  <thead>\n",
       "    <tr style=\"text-align: right;\">\n",
       "      <th></th>\n",
       "      <th>client_msg_id</th>\n",
       "      <th>text</th>\n",
       "      <th>user</th>\n",
       "      <th>ts</th>\n",
       "      <th>thread_ts</th>\n",
       "      <th>latest_reply</th>\n",
       "    </tr>\n",
       "  </thead>\n",
       "  <tbody>\n",
       "    <tr>\n",
       "      <th>0</th>\n",
       "      <td>c24fa6a5-d717-4465-a79f-222d7a7f0095</td>\n",
       "      <td>:star: Problemas con el live chat - Se cierra ...</td>\n",
       "      <td>U02217J5895</td>\n",
       "      <td>1642082497.003900</td>\n",
       "      <td>1642082497.003900</td>\n",
       "      <td>1642082899.009400</td>\n",
       "    </tr>\n",
       "    <tr>\n",
       "      <th>1</th>\n",
       "      <td>0f81799c-c344-4ac7-a6b1-b3acbbe0233b</td>\n",
       "      <td>Terminado</td>\n",
       "      <td>U02217J5895</td>\n",
       "      <td>1642082899.009400</td>\n",
       "      <td>1642082497.003900</td>\n",
       "      <td>NaN</td>\n",
       "    </tr>\n",
       "    <tr>\n",
       "      <th>2</th>\n",
       "      <td>e21f0b46-c6af-4185-a16d-b641f6a13fa0</td>\n",
       "      <td>:rotating_light:  ticket Urgente -   Descricpión</td>\n",
       "      <td>U02217J5895</td>\n",
       "      <td>1642082568.006000</td>\n",
       "      <td>1642082568.006000</td>\n",
       "      <td>1642085890.010300</td>\n",
       "    </tr>\n",
       "    <tr>\n",
       "      <th>3</th>\n",
       "      <td>c31d99d1-2c07-488a-9783-466391896abb</td>\n",
       "      <td>respuesta o pregunta al ticket</td>\n",
       "      <td>U02217J5895</td>\n",
       "      <td>1642082589.006100</td>\n",
       "      <td>1642082568.006000</td>\n",
       "      <td>NaN</td>\n",
       "    </tr>\n",
       "    <tr>\n",
       "      <th>4</th>\n",
       "      <td>b62af234-8207-46d3-89da-293c557c7aff</td>\n",
       "      <td>Se debe seguir este hilo para reducir el espac...</td>\n",
       "      <td>U02217J5895</td>\n",
       "      <td>1642082605.006300</td>\n",
       "      <td>1642082568.006000</td>\n",
       "      <td>NaN</td>\n",
       "    </tr>\n",
       "  </tbody>\n",
       "</table>\n",
       "</div>"
      ],
      "text/plain": [
       "                          client_msg_id  \\\n",
       "0  c24fa6a5-d717-4465-a79f-222d7a7f0095   \n",
       "1  0f81799c-c344-4ac7-a6b1-b3acbbe0233b   \n",
       "2  e21f0b46-c6af-4185-a16d-b641f6a13fa0   \n",
       "3  c31d99d1-2c07-488a-9783-466391896abb   \n",
       "4  b62af234-8207-46d3-89da-293c557c7aff   \n",
       "\n",
       "                                                text         user  \\\n",
       "0  :star: Problemas con el live chat - Se cierra ...  U02217J5895   \n",
       "1                                          Terminado  U02217J5895   \n",
       "2   :rotating_light:  ticket Urgente -   Descricpión  U02217J5895   \n",
       "3                     respuesta o pregunta al ticket  U02217J5895   \n",
       "4  Se debe seguir este hilo para reducir el espac...  U02217J5895   \n",
       "\n",
       "                  ts          thread_ts       latest_reply  \n",
       "0  1642082497.003900  1642082497.003900  1642082899.009400  \n",
       "1  1642082899.009400  1642082497.003900                NaN  \n",
       "2  1642082568.006000  1642082568.006000  1642085890.010300  \n",
       "3  1642082589.006100  1642082568.006000                NaN  \n",
       "4  1642082605.006300  1642082568.006000                NaN  "
      ]
     },
     "execution_count": 109,
     "metadata": {},
     "output_type": "execute_result"
    }
   ],
   "source": [
    "df_clean = df[['client_msg_id', 'text', 'user', 'ts', 'thread_ts', 'latest_reply']].drop_duplicates().sort_values(['thread_ts']).reset_index(drop=True)\n",
    "df_clean.head()"
   ]
  },
  {
   "cell_type": "code",
   "execution_count": null,
   "metadata": {},
   "outputs": [],
   "source": [
    "# Columnas nuevas a agregar\n",
    "\n",
    "nuevas_columnas = ['nuevo_req', 'ticket_ops', 'ticket_tech', 'urgente', 't_finalizado', 't_revisado', 't_resuelto']\n",
    "\n",
    "df_clean_new_columns = df_clean.reindex(columns=df_clean.columns.tolist() + nuevas_columnas)\n",
    "df_clean_new_columns['latest_reply'].fillna('', inplace=True)\n",
    "\n"
   ]
  },
  {
   "cell_type": "code",
   "execution_count": 110,
   "metadata": {},
   "outputs": [
    {
     "data": {
      "text/plain": [
       "'nuevo_req'"
      ]
     },
     "execution_count": 110,
     "metadata": {},
     "output_type": "execute_result"
    }
   ],
   "source": [
    "df_clean_new_columns.columns[6]"
   ]
  },
  {
   "cell_type": "code",
   "execution_count": 124,
   "metadata": {},
   "outputs": [],
   "source": [
    "simbolos = [':writing_hand:', ':dart:', ':robot_face:',':rotating_light:']\n",
    "\n",
    "for i in df_clean_new_columns.index:\n",
    "    if df_clean_new_columns['latest_reply'][i] != '':\n",
    "            for j in range(len(simbolos)):\n",
    "                if simbolos[j] in df_clean_new_columns['text'][i]:\n",
    "                    df_clean_new_columns[df_clean_new_columns.columns[6 + j]][i] = True\n",
    "                else:\n",
    "                    df_clean_new_columns[df_clean_new_columns.columns[6 + j]][i] = False\n",
    "\n",
    "\n",
    "                    \n",
    "        "
   ]
  },
  {
   "cell_type": "code",
   "execution_count": 129,
   "metadata": {},
   "outputs": [],
   "source": [
    "df_clean_new_columns.to_excel('data_slack.xlsx')\n",
    "\n",
    "\n"
   ]
  },
  {
   "cell_type": "code",
   "execution_count": 97,
   "metadata": {},
   "outputs": [
    {
     "name": "stdout",
     "output_type": "stream",
     "text": [
      "True\n",
      "True\n",
      "True\n",
      "True\n",
      "True\n"
     ]
    }
   ],
   "source": [
    "texto = \"*Resumen Simbología:*\\n\\n_*UPDATE:*_ \\n _DEFINICIONES_:\\n  _REQUERIMIENTOS TECH_: Son aquellas tareas que solo pueden ser resueltas con programación (Cron, Bugs en plataforma, etc...)\\n  _REQUERIMIENTOS OPS_: Son aquellas tareas que pueden ser resueltas sin llegar a nivel de código (Solicitudes Twilio, Cambios de Flujo, reprogramación de APIs, revisión de variables funcionando correctamente)\\n\\n*TICKETS*:\\n:writing_hand::skin-tone-4:NUEVO REQUERIMIENTO\\n:dart: TICKET OPERACIONES\\n:robot_face: NUEVO TICKET TECH\\n:rotating_light: :robot_face: TICKET URGENTE TECH\\n:rotating_light: :dart: TICKET OPERACIONES URGENTE\\n\\n*REACCIONES*:\\n:white_check_mark: TICKET FINALIZADO Y REVISADO (APRUEBA QUIEN LO REPORTÓ)\\n:eyes: TICKET EN REVISIÓN\\n:raised_hands::skin-tone-4: TICKET RESUELTO (POR APROBAR)\\n\\n*NOTAS*:\\n• _*LA PERSONA QUE TOMA EL REQUERIMIENTO* DEBE ESCRIBIR OWNER EN LOS COMENTARIOS DEL HILO DEL TICKET. CUANDO LO RESUELVE, DEBE ESCRIBIR RESUELTO Y AGREGAR LA REACCIÓN, MIENTRAS QUE *LA PERSONA QUE APRUEBA* DEBE ESCRIBIR APROBADO Y REACCIONAR._\\n• _CUALQUIER COSA QUE SEA REFERENTE AL TICKET, SE DEBE COMENTAR EN EL HILO DEL MISMO._\"\n",
    "\n",
    "simbolos = [':writing_hand:', ':dart:', ':robot_face:',':rotating_light:']\n",
    "\n",
    "for i in simbolos:\n",
    "    if i in texto:\n",
    "        print(True)"
   ]
  },
  {
   "cell_type": "code",
   "execution_count": null,
   "metadata": {},
   "outputs": [],
   "source": [
    "#Ejemplo donde seleccionamos un thread en especifico segun el thread_ts (tiempo de creacion del thread) y lo expresamos a traves de un dataframe.\n",
    "\n",
    "df_thread_ts = df[df['thread_ts'] == '1642602522.057200']\n",
    "df_thread_ts_info_select = df_thread_ts[['client_msg_id', 'text', 'user', 'ts', 'thread_ts', 'latest_reply']]\n",
    "df_thread_ts_info_select = df_thread_ts_info_select.drop_duplicates().sort_values(['ts']).reset_index(drop=True)\n",
    "df_thread_ts_info_select\n"
   ]
  }
 ],
 "metadata": {
  "interpreter": {
   "hash": "b5b77ba7ba277fbff418d709ff8b0981a3563ca0c8d1f410c7dc1292125aee9e"
  },
  "kernelspec": {
   "display_name": "Python 3.9.7 64-bit ('.krino': venv)",
   "language": "python",
   "name": "python3"
  },
  "language_info": {
   "codemirror_mode": {
    "name": "ipython",
    "version": 3
   },
   "file_extension": ".py",
   "mimetype": "text/x-python",
   "name": "python",
   "nbconvert_exporter": "python",
   "pygments_lexer": "ipython3",
   "version": "3.9.7"
  },
  "orig_nbformat": 4
 },
 "nbformat": 4,
 "nbformat_minor": 2
}
