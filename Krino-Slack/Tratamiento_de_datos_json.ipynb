{
 "cells": [
  {
   "cell_type": "code",
   "execution_count": 353,
   "metadata": {},
   "outputs": [],
   "source": [
    "import numpy as np\n",
    "import json\n",
    "import os\n",
    "import pandas as pd\n",
    "import ast"
   ]
  },
  {
   "cell_type": "code",
   "execution_count": 354,
   "metadata": {},
   "outputs": [],
   "source": [
    "#Toma los archivos .json del directorio y los une a una base de datos usando pandas\n",
    "\n",
    "data_list = []\n",
    "base_dir = 'tech---ops/'\n",
    "\n",
    "for file in os.listdir(base_dir):\n",
    "    if 'json' in file:\n",
    "        json_path = os.path.join(base_dir, file)\n",
    "        json_data = pd.read_json(json_path, dtype=False)\n",
    "        data_list.append(json_data)\n",
    "\n",
    "df = pd.concat(data_list)\n"
   ]
  },
  {
   "cell_type": "code",
   "execution_count": 355,
   "metadata": {},
   "outputs": [],
   "source": [
    "# Se agregaron las columnas nuevas segun las reacciones y ademas se ordenaron.\n",
    "\n",
    "nuevas_columnas_reacciones = ['t_finalizado', 't_revisado', 't_resuelto']\n",
    "\n",
    "df_columnas_reaccion = df.reindex(columns=df.columns.tolist() + nuevas_columnas_reacciones)\n",
    "df_columnas_reaccion['reactions'].fillna('', inplace=True)\n",
    "df_columnas_reaccion = df_columnas_reaccion.reset_index(drop=True)\n",
    "\n"
   ]
  },
  {
   "cell_type": "code",
   "execution_count": 356,
   "metadata": {},
   "outputs": [],
   "source": [
    "def merge_dict(lista):\n",
    "    \"\"\"Funci'on que une diccionarios en uno solo a travez de listas\n",
    "\n",
    "    Args:\n",
    "        lista (list): toma como argumdento una lista no vacia!!! que contenga varios diccionarios\n",
    "    \"\"\"\n",
    "    new_dict = {'name':[], 'users':[]}\n",
    "\n",
    "    for elemento in lista:\n",
    "        new_dict['name'].append(elemento['name'])\n",
    "        new_dict['users'].append(elemento['users'])\n",
    "\n",
    "    return new_dict"
   ]
  },
  {
   "cell_type": "code",
   "execution_count": null,
   "metadata": {},
   "outputs": [],
   "source": [
    "#\n",
    "lista_dict = []\n",
    "\n",
    "for i in df_columnas_reaccion.index:\n",
    "    if df_columnas_reaccion['reactions'][i] != '':\n",
    "        lista_dict.append(merge_dict(df_columnas_reaccion['reactions'][i]))\n",
    "    else:\n",
    "        lista_dict.append({'name': [], 'users': []})\n",
    "\n",
    "df_reaction_provisoria = pd.DataFrame(lista_dict)"
   ]
  },
  {
   "cell_type": "code",
   "execution_count": null,
   "metadata": {},
   "outputs": [],
   "source": [
    "#\n",
    "\n",
    "simbolos_reaccion = ['white_check_mark', 'eyes', 'raised_hands']\n",
    "\n",
    "for i in df_reaction_provisoria.index:\n",
    "    if simbolos_reaccion[0] in df_reaction_provisoria['name'][i]:\n",
    "        df_columnas_reaccion['t_finalizado'][i] = True\n",
    "\n",
    "for i in df_reaction_provisoria.index:\n",
    "    if simbolos_reaccion[1] in df_reaction_provisoria['name'][i]:\n",
    "        df_columnas_reaccion['t_revisado'][i] = True\n",
    "\n",
    "for i in df_reaction_provisoria.index:\n",
    "    if any(simbolos_reaccion[2] in s for s in df_reaction_provisoria['name'][i]):\n",
    "        df_columnas_reaccion['t_resuelto'][i] = True\n",
    "\n",
    "df_columnas_reaccion[['t_finalizado', 't_revisado', 't_resuelto']] = df_columnas_reaccion[['t_finalizado', 't_revisado', 't_resuelto']].fillna(value=False)"
   ]
  },
  {
   "cell_type": "code",
   "execution_count": 363,
   "metadata": {},
   "outputs": [],
   "source": [
    "# Seleccionamos las columnas utiles del df y ademas se elimnaron las filas duplicadas y se ordenaron segun la fecha y hora de la creacion del thread. Antes de hacer este paso, debo sacar la info de la columna reactions \n",
    "\n",
    "df_clean = df_columnas_reaccion[['client_msg_id', 'text', 'user', 'ts', 'thread_ts', 'latest_reply', 't_finalizado', 't_revisado', 't_resuelto']].drop_duplicates().sort_values(['ts']).reset_index(drop=True)\n",
    "\n",
    "df_clean = df_clean[df_clean['ts'] >= '1642171431.027300']"
   ]
  },
  {
   "cell_type": "code",
   "execution_count": null,
   "metadata": {},
   "outputs": [],
   "source": [
    "# Columnas nuevas a agregar\n",
    "\n",
    "nuevas_columnas = ['nuevo_req', 'ticket_ops', 'ticket_tech', 'urgente']\n",
    "\n",
    "df_clean_new_columns = df_clean.reindex(columns=df_clean.columns.tolist() + nuevas_columnas)\n",
    "df_clean_new_columns['latest_reply'].fillna('', inplace=True)"
   ]
  },
  {
   "cell_type": "code",
   "execution_count": 124,
   "metadata": {},
   "outputs": [],
   "source": [
    "# Se creo una lista con los simbolos asociado a las nuevas columnas.\n",
    "\n",
    "simbolos = [':writing_hand:', ':dart:', ':robot_face:',':rotating_light:']\n",
    "\n",
    "# Se itero el df para asociarle un valor de True or False a las respectivas columnas segun la simbologia del mensaje principal del thread.\n",
    "\n",
    "for i in df_clean_new_columns.index:\n",
    "    if df_clean_new_columns['latest_reply'][i] != '':\n",
    "            for j in range(len(simbolos)):\n",
    "                if simbolos[j] in df_clean_new_columns['text'][i]:\n",
    "                    df_clean_new_columns[df_clean_new_columns.columns[6 + j]][i] = True\n",
    "                else:\n",
    "                    df_clean_new_columns[df_clean_new_columns.columns[6 + j]][i] = False "
   ]
  },
  {
   "cell_type": "code",
   "execution_count": 129,
   "metadata": {},
   "outputs": [],
   "source": [
    "# Exportando data a excel\n",
    "\n",
    "df_clean_new_columns.to_excel('data_slack.xlsx')"
   ]
  }
 ],
 "metadata": {
  "interpreter": {
   "hash": "b5b77ba7ba277fbff418d709ff8b0981a3563ca0c8d1f410c7dc1292125aee9e"
  },
  "kernelspec": {
   "display_name": "Python 3.9.7 64-bit ('.krino': venv)",
   "language": "python",
   "name": "python3"
  },
  "language_info": {
   "codemirror_mode": {
    "name": "ipython",
    "version": 3
   },
   "file_extension": ".py",
   "mimetype": "text/x-python",
   "name": "python",
   "nbconvert_exporter": "python",
   "pygments_lexer": "ipython3",
   "version": "3.9.7"
  },
  "orig_nbformat": 4
 },
 "nbformat": 4,
 "nbformat_minor": 2
}
