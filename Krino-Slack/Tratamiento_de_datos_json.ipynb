{
 "cells": [
  {
   "cell_type": "code",
   "execution_count": 393,
   "metadata": {},
   "outputs": [],
   "source": [
    "import numpy as np\n",
    "import json\n",
    "import os\n",
    "import pandas as pd"
   ]
  },
  {
   "cell_type": "code",
   "execution_count": 394,
   "metadata": {},
   "outputs": [],
   "source": [
    "#Toma los archivos .json del directorio y los une a una base de datos usando pandas.\n",
    "\n",
    "data_list = []\n",
    "base_dir = 'tech---ops/'\n",
    "\n",
    "for file in os.listdir(base_dir):\n",
    "    if 'json' in file:\n",
    "        json_path = os.path.join(base_dir, file)\n",
    "        json_data = pd.read_json(json_path, dtype=False)\n",
    "        data_list.append(json_data)\n",
    "\n",
    "df = pd.concat(data_list)\n"
   ]
  },
  {
   "cell_type": "code",
   "execution_count": 395,
   "metadata": {},
   "outputs": [],
   "source": [
    "# Se agregaron las columnas nuevas segun las reacciones y ademas se ordenaron por el index.\n",
    "\n",
    "nuevas_columnas_reacciones = ['t_finalizado', 't_revisado', 't_resuelto']\n",
    "\n",
    "df_columnas_reaccion = df.reindex(columns=df.columns.tolist() + nuevas_columnas_reacciones)\n",
    "df_columnas_reaccion['reactions'].fillna('', inplace=True)\n",
    "df_columnas_reaccion = df_columnas_reaccion.reset_index(drop=True)\n",
    "\n"
   ]
  },
  {
   "cell_type": "code",
   "execution_count": 396,
   "metadata": {},
   "outputs": [],
   "source": [
    "def merge_dict(lista):\n",
    "    \"\"\"Funci'on que une diccionarios en uno solo a travez de listas\n",
    "\n",
    "    Args:\n",
    "        lista (list): toma como argumdento una lista no vacia!!! que contenga varios diccionarios\n",
    "    \"\"\"\n",
    "    new_dict = {'name':[], 'users':[]}\n",
    "\n",
    "    for elemento in lista:\n",
    "        new_dict['name'].append(elemento['name'])\n",
    "        new_dict['users'].append(elemento['users'])\n",
    "\n",
    "    return new_dict"
   ]
  },
  {
   "cell_type": "code",
   "execution_count": 397,
   "metadata": {},
   "outputs": [],
   "source": [
    "# Se creo una lista vacia para almacenar todos los diccionarios de la columna reactions\n",
    "\n",
    "lista_dict = []\n",
    "\n",
    "# Se itero la columna reactions para almacenar los respectivos diccionarios usando la funcion anteriormente creada en lista_dict para despues generar un DataFrame con los datos\n",
    "\n",
    "for i in df_columnas_reaccion.index:\n",
    "    if df_columnas_reaccion['reactions'][i] != '':\n",
    "        lista_dict.append(merge_dict(df_columnas_reaccion['reactions'][i]))\n",
    "    else:\n",
    "        lista_dict.append({'name': [], 'users': []})\n",
    "\n",
    "df_reaction_provisoria = pd.DataFrame(lista_dict)"
   ]
  },
  {
   "cell_type": "code",
   "execution_count": null,
   "metadata": {},
   "outputs": [],
   "source": [
    "# Se creo una lista con los simbolos de reaccion\n",
    "\n",
    "simbolos_reaccion = ['white_check_mark', 'eyes', 'raised_hands']\n",
    "\n",
    "# Se itero la base de datos con el fin de almacenar True's & False's en las respectivas columnas de su reaccion\n",
    "\n",
    "for i in df_reaction_provisoria.index:\n",
    "    if simbolos_reaccion[0] in df_reaction_provisoria['name'][i]:\n",
    "        df_columnas_reaccion['t_finalizado'][i] = True\n",
    "\n",
    "for i in df_reaction_provisoria.index:\n",
    "    if simbolos_reaccion[1] in df_reaction_provisoria['name'][i]:\n",
    "        df_columnas_reaccion['t_revisado'][i] = True\n",
    "\n",
    "for i in df_reaction_provisoria.index:\n",
    "    if any(simbolos_reaccion[2] in s for s in df_reaction_provisoria['name'][i]):\n",
    "        df_columnas_reaccion['t_resuelto'][i] = True\n",
    "\n",
    "df_columnas_reaccion[['t_finalizado', 't_revisado', 't_resuelto']] = df_columnas_reaccion[['t_finalizado', 't_revisado', 't_resuelto']].fillna(value=False)"
   ]
  },
  {
   "cell_type": "code",
   "execution_count": 399,
   "metadata": {},
   "outputs": [],
   "source": [
    "# Seleccionamos las columnas utiles del df y ademas se elimnaron las filas duplicadas y se ordenaron segun la fecha y hora de la creacion de primer mensaje. \n",
    "\n",
    "df_clean = df_columnas_reaccion[['client_msg_id', 'text', 'user', 'ts', 'thread_ts', 'latest_reply', 't_finalizado', 't_revisado', 't_resuelto']].drop_duplicates().sort_values(['ts'])\n",
    "\n",
    "df_clean = df_clean[df_clean['ts'] >= '1642171431.027300'].reset_index(drop=True)"
   ]
  },
  {
   "cell_type": "code",
   "execution_count": 400,
   "metadata": {},
   "outputs": [],
   "source": [
    "# Columnas nuevas a agregar\n",
    "\n",
    "nuevas_columnas = ['nuevo_req', 'ticket_ops', 'ticket_tech', 'urgente']\n",
    "\n",
    "df_clean_new_columns = df_clean.reindex(columns=df_clean.columns.tolist() + nuevas_columnas)\n",
    "df_clean_new_columns['latest_reply'].fillna('', inplace=True)"
   ]
  },
  {
   "cell_type": "code",
   "execution_count": null,
   "metadata": {},
   "outputs": [],
   "source": [
    "# Se creo una lista con los simbolos asociado a las nuevas columnas.\n",
    "\n",
    "simbolos = [':writing_hand:', ':dart:', ':robot_face:',':rotating_light:']\n",
    "\n",
    "# Se itero el df para asociarle un valor de True or False a las respectivas columnas segun la simbologia del mensaje principal del thread.\n",
    "\n",
    "for i in df_clean_new_columns.index:\n",
    "    if df_clean_new_columns['latest_reply'][i] != '':\n",
    "            for j in range(len(simbolos)):\n",
    "                if simbolos[j] in df_clean_new_columns['text'][i]:\n",
    "                    df_clean_new_columns[df_clean_new_columns.columns[9 + j]][i] = True\n",
    "                else:\n",
    "                    df_clean_new_columns[df_clean_new_columns.columns[9 + j]][i] = False "
   ]
  },
  {
   "cell_type": "code",
   "execution_count": null,
   "metadata": {},
   "outputs": [],
   "source": [
    "# Mostrar las primeras 10 filas del DataFrame\n",
    "\n",
    "df_clean_new_columns.head(10)"
   ]
  },
  {
   "cell_type": "code",
   "execution_count": 404,
   "metadata": {},
   "outputs": [],
   "source": [
    "# Cambiar el nombre de la columna user a Owner\n",
    "\n",
    "df_clean_new_columns = df_clean_new_columns.rename(columns = {'user': 'Owner'}, inplace=False)"
   ]
  },
  {
   "cell_type": "code",
   "execution_count": null,
   "metadata": {},
   "outputs": [],
   "source": [
    "df_clean_new_columns.head(10)"
   ]
  },
  {
   "cell_type": "code",
   "execution_count": 416,
   "metadata": {},
   "outputs": [],
   "source": [
    "# Se creo el DataFrame para los users\n",
    "\n",
    "data_list = []\n",
    "base_dir = 'user-data/'\n",
    "\n",
    "for file in os.listdir(base_dir):\n",
    "    if 'json' in file:\n",
    "        json_path = os.path.join(base_dir, file)\n",
    "        json_data = pd.read_json(json_path, dtype=False)\n",
    "        data_list.append(json_data)\n",
    "\n",
    "df_users = pd.concat(data_list)\n",
    "df_users = df_users[['id', 'name']]"
   ]
  },
  {
   "cell_type": "code",
   "execution_count": 417,
   "metadata": {},
   "outputs": [],
   "source": [
    "# Cambiar el nombre de la columna id a Owner\n",
    "\n",
    "df_users = df_users.rename(columns = {'id': 'Owner'}, inplace=False)"
   ]
  },
  {
   "cell_type": "code",
   "execution_count": null,
   "metadata": {},
   "outputs": [],
   "source": [
    "# Combinar el df de user con el df original para obtener los nombres de cada mensaje\n",
    "\n",
    "data_clean = pd.merge(df_users, df_clean_new_columns, on='Owner', how='outer')\n",
    "\n",
    "data_clean = data_final[data_final['name'].notna()]\n",
    "data_clean.sort_values(['ts']).reset_index(drop=True)\n"
   ]
  },
  {
   "cell_type": "code",
   "execution_count": null,
   "metadata": {},
   "outputs": [],
   "source": [
    "data_clean[data_clean['latest_reply'] != ''].sort_values(['ts']).reset_index(drop=True)"
   ]
  }
 ],
 "metadata": {
  "interpreter": {
   "hash": "b5b77ba7ba277fbff418d709ff8b0981a3563ca0c8d1f410c7dc1292125aee9e"
  },
  "kernelspec": {
   "display_name": "Python 3.9.7 64-bit ('.krino': venv)",
   "language": "python",
   "name": "python3"
  },
  "language_info": {
   "codemirror_mode": {
    "name": "ipython",
    "version": 3
   },
   "file_extension": ".py",
   "mimetype": "text/x-python",
   "name": "python",
   "nbconvert_exporter": "python",
   "pygments_lexer": "ipython3",
   "version": "3.9.7"
  },
  "orig_nbformat": 4
 },
 "nbformat": 4,
 "nbformat_minor": 2
}
